{
 "cells": [
  {
   "cell_type": "code",
   "execution_count": 89,
   "id": "9a6ab136-9e49-4ae9-a9a1-b92c7ce81eb3",
   "metadata": {},
   "outputs": [],
   "source": [
    "import numpy as np\n",
    "import math"
   ]
  },
  {
   "cell_type": "code",
   "execution_count": 90,
   "id": "712f286d-d053-475e-ac62-2efefcce87d2",
   "metadata": {},
   "outputs": [
    {
     "name": "stdout",
     "output_type": "stream",
     "text": [
      "Expected Value per trade: 40$\n"
     ]
    }
   ],
   "source": [
    "# 1. EV - Expected Value \n",
    "# Problem Example - A trader has 60% Probability to win 100$ per trade, and 40% probability to lose 50$ on that same trade. What is the Trader's expected value per trade?\n",
    "\n",
    "p_win = 0.6\n",
    "gain = 100\n",
    "loss = 50\n",
    "\n",
    "EV = p_win * gain - (1 - p_win) * loss\n",
    "print(f\"Expected Value per trade: {EV:.0f}$\")"
   ]
  },
  {
   "cell_type": "code",
   "execution_count": 91,
   "id": "76a90b30-925e-4290-ba4c-ad51a46e2459",
   "metadata": {},
   "outputs": [
    {
     "name": "stdout",
     "output_type": "stream",
     "text": [
      "Probability of three heads: 12.50%\n"
     ]
    }
   ],
   "source": [
    "# 2. Independent Events\n",
    "# Example Problem: A fair coin is flipped three times. What is the probability it lands on heads each time?\n",
    "\n",
    "p_heads = 0.5\n",
    "k = 3 # Number of \"successes\" we are looking for\n",
    "p_three_heads = np.power(p_heads, k)\n",
    "\n",
    "print(f\"Probability of three heads: {p_three_heads:.2%}\")"
   ]
  },
  {
   "cell_type": "code",
   "execution_count": 92,
   "id": "ce3f73f2-b4c1-4c29-b27a-a575e0a6f165",
   "metadata": {},
   "outputs": [
    {
     "name": "stdout",
     "output_type": "stream",
     "text": [
      "Probability of the trade to NOT be profitable = 40.00%\n"
     ]
    }
   ],
   "source": [
    "# 3. Complement Rule / Complement Probability\n",
    "# Problem Example: A trader has 60% chance of making a profitable trade. What is the probability that the trade is NOT profitable?\n",
    "\n",
    "p_profitable = 0.6\n",
    "p_not_profitable = 1 - p_profitable\n",
    "\n",
    "print(f\"Probability of the trade to NOT be profitable = {p_not_profitable:.2%}\")"
   ]
  },
  {
   "cell_type": "code",
   "execution_count": 93,
   "id": "cb3b15a6-4457-430b-84c5-c30ff2a9c02f",
   "metadata": {},
   "outputs": [
    {
     "name": "stdout",
     "output_type": "stream",
     "text": [
      "Probability of 6 wins in 10 trades = 23.84%\n"
     ]
    }
   ],
   "source": [
    "# 4.1 Binomial Probability - EXACTLY k successes in n trials\n",
    "# Problem Example: A trader makes 10 trades in a day. Each trade has a 55% probability of being profitable. What is the probability that the trader will have exactly 6 winning trades out of those 10?\n",
    "\n",
    "n = 10  # Total Trials\n",
    "k = 6  # Number of positive outcomes we want\n",
    "p = 0.55  # Win probability\n",
    "\n",
    "binom_exact = math.comb(n, k) * (p ** k) * ((1 - p) ** (n - k))    # math.comb is the method for \"n choose k\"\n",
    "print(f\"Probability of {k} wins in {n} trades = {binom_exact:.2%}\")"
   ]
  },
  {
   "cell_type": "code",
   "execution_count": 94,
   "id": "4c55ecb1-e65f-4aae-a901-31d107266985",
   "metadata": {},
   "outputs": [
    {
     "name": "stdout",
     "output_type": "stream",
     "text": [
      "Probability of at least 7 wins out of 10 = 38.23%\n"
     ]
    }
   ],
   "source": [
    "# 4.2 Binomial Probability - ATLEAST k successes in n trials\n",
    "# A trader makes 10 trades in a day. Each trade has a 60% probability of being profitable. What is the probability that the trader will have at least 7 winning trades out of those 10?\n",
    "\n",
    "def binomial_prob(n, k, p):\n",
    "    \"\"\"Probability of exactly k successes in n trials.\"\"\"\n",
    "    return math.comb(n, k) * (p**k) * ((1-p)**(n-k))\n",
    "\n",
    "n = 10\n",
    "p = 0.6\n",
    "\n",
    "# At least 7:\n",
    "k_min = 7\n",
    "binom_atleast = sum(binomial_prob(n, i, p) for i in range(k_min, n+1))\n",
    "\n",
    "print(f\"Probability of at least {k_min} wins out of {n} = {binom_atleast:.2%}\")"
   ]
  },
  {
   "cell_type": "code",
   "execution_count": 98,
   "id": "b04d9917-bcb5-4f3c-860f-7682b13801ff",
   "metadata": {},
   "outputs": [
    {
     "name": "stdout",
     "output_type": "stream",
     "text": [
      "Probability both cards drawn are kings is: 0.4525%\n"
     ]
    }
   ],
   "source": [
    "# 5. Conditional Probability\n",
    "# Example Problem. In a standard deck of 52 cards, if you draw 2 cards without replacement, what is the probability both of them are Kings?\n",
    "\n",
    "p_first_king = 4 / 52\n",
    "p_second_king_given_first = 3 / 51\n",
    "\n",
    "\n",
    "p_both_kings = p_first_king * p_second_king_given_first \n",
    "\n",
    "print(f\"Probability both cards drawn are kings is: {p_both_kings:.4%}\")"
   ]
  },
  {
   "cell_type": "code",
   "execution_count": 96,
   "id": "58da1c58-ada6-4802-8757-ab2efcdef601",
   "metadata": {},
   "outputs": [
    {
     "name": "stdout",
     "output_type": "stream",
     "text": [
      "P(Edge | Profitable) = 63.64%\n"
     ]
    }
   ],
   "source": [
    "# 6. Bayes Theorem\n",
    "# Example Problem:\n",
    "# Only 20% of traders actually have a real trading edge.\n",
    "# If a trader does have an edge, there’s a 70% chance they will end the year profitable.\n",
    "# If they don’t have an edge, there’s still a 10% chance they end up profitable just by luck.\n",
    "# Question (What we need) - Given that a trader is profitable, what is the probability that they actually have an edge?\n",
    "\n",
    "# P(A | B) = P(B | A) * P(A) / P(B)\n",
    "\n",
    "p_edge = 0.2 # prior (chance a trader has an edge for example)\n",
    "p_profitable_given_edge = 0.7 \n",
    "p_profitable_given_no_edge = 0.1 \n",
    "\n",
    "# In words - probability that a trader has an edge is 20%. The percent a trader is profitable with given edge is 70%, with a 10% false rate. \n",
    "# What is the probability that an edge is present if the trader is profitable?\n",
    "\n",
    "# total probability of profitability - (now that's a tongue twister)\n",
    "p_profitable = p_profitable_given_edge * p_edge + p_profitable_given_no_edge * (1-p_edge) # Total Evidence\n",
    "\n",
    "# Bayes Result\n",
    "posterior = (p_profitable_given_edge * p_edge) / p_profitable # Scenario we are looking for / total evidence\n",
    "print(f\"P(Edge | Profitable) = {posterior:.2%}\")"
   ]
  },
  {
   "cell_type": "code",
   "execution_count": 97,
   "id": "2eca07d9-c43c-4f59-bff3-e7e610ada2a5",
   "metadata": {},
   "outputs": [
    {
     "name": "stdout",
     "output_type": "stream",
     "text": [
      "Mean: 6.0\n",
      "Variance: 134.0\n",
      "Standard Deviation: 11.58\n"
     ]
    }
   ],
   "source": [
    "# 7. Variance & SD\n",
    "# Example Problem:\n",
    "# A trader recorded the following profits/losses (in $) over 5 trades:\n",
    "# +10, -10, +20, -5, +15\n",
    "# Calculate the mean return, variance, and standard deviation of the trader’s returns.\n",
    "\n",
    "Returns = np.array([10, -10, 20, -5, 15])\n",
    "\n",
    "Mean = np.mean(returns)\n",
    "Variance = np.var(returns)\n",
    "SD = np.sqrt(variance)\n",
    "\n",
    "print(\"Mean:\", mean)\n",
    "print(\"Variance:\", variance)\n",
    "print(f\"Standard Deviation: {sd:.2f}\")"
   ]
  }
 ],
 "metadata": {
  "kernelspec": {
   "display_name": "Python 3 (ipykernel)",
   "language": "python",
   "name": "python3"
  },
  "language_info": {
   "codemirror_mode": {
    "name": "ipython",
    "version": 3
   },
   "file_extension": ".py",
   "mimetype": "text/x-python",
   "name": "python",
   "nbconvert_exporter": "python",
   "pygments_lexer": "ipython3",
   "version": "3.13.5"
  }
 },
 "nbformat": 4,
 "nbformat_minor": 5
}
