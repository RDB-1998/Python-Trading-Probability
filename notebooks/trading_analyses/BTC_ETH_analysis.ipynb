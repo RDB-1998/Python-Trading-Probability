{
 "cells": [
  {
   "cell_type": "code",
   "execution_count": null,
   "id": "d533e96c-8d7c-4008-82a3-fc7bf3fb5e63",
   "metadata": {},
   "outputs": [],
   "source": [
    "import pandas as pd\n",
    "import numpy as npc\n",
    "import yfinance as yf\n",
    "import matplotlib.pyplot as plt\n",
    "\n",
    "plt.style.use(\"seaborn-v0_8\") \n",
    "%config InlineBackend.figure_format = \"svg\" # Better picture quality for plots\n",
    "np.set_printoptions(suppress=True) # Removes -e numbers"
   ]
  },
  {
   "cell_type": "code",
   "execution_count": null,
   "id": "fb940096-7acf-498d-935f-2211d3bc7c0f",
   "metadata": {},
   "outputs": [],
   "source": [
    "# Importing tickers, last 7 years for example\n",
    "btc = yf.Ticker(\"BTC-USD\").history(period = \"7y\")\n",
    "eth = yf.Ticker(\"ETH-USD\").history(period = \"7y\")"
   ]
  },
  {
   "cell_type": "code",
   "execution_count": null,
   "id": "53cc1ffe-a815-4aff-b40b-d29a135992c4",
   "metadata": {},
   "outputs": [],
   "source": [
    "# plt.plot(btc.index, btc[\"Close\"], label = \"BTC-USD\");"
   ]
  },
  {
   "cell_type": "code",
   "execution_count": null,
   "id": "f2edcfc5-e2ae-4bde-b9a2-6daa45a47b94",
   "metadata": {},
   "outputs": [],
   "source": [
    "# plt.plot(eth.index, eth[\"Close\"], label = \"ETH-USD\");"
   ]
  },
  {
   "cell_type": "code",
   "execution_count": null,
   "id": "3ea0d1b3-7c8a-4e0d-a57a-360fb1e0be03",
   "metadata": {},
   "outputs": [],
   "source": [
    "# Comparing both assets, normalized - each close price divided by first one\n",
    "plt.plot(btc.index, btc[\"Close\"] / btc[\"Close\"].iloc[0], label = \"BTC Normalized\"); \n",
    "plt.plot(eth.index, eth[\"Close\"] / eth[\"Close\"].iloc[0], label = \"ETH Normalized\");\n",
    "plt.title(\"BTC vs ETH Growth past 7 years in a Normalized format\")\n",
    "plt.xlabel(\"Date\")\n",
    "plt.legend();"
   ]
  },
  {
   "cell_type": "code",
   "execution_count": null,
   "id": "bb96fff5-0828-4ee5-b9f7-8f4b4e8c71f5",
   "metadata": {},
   "outputs": [],
   "source": [
    "# %(Simple) Returns\n",
    "btc[\"Pct Return\"] = btc[\"Close\"].pct_change() \n",
    "eth[\"Pct Return\"] = eth[\"Close\"].pct_change() "
   ]
  },
  {
   "cell_type": "code",
   "execution_count": null,
   "id": "768aabbd-d1d4-4be3-af0f-814ab4dac0e9",
   "metadata": {},
   "outputs": [],
   "source": [
    "# log returns\n",
    "btc[\"Log Return\"] = np.log(btc[\"Close\"] / btc[\"Close\"].shift(1))\n",
    "eth[\"Log Return\"] = np.log(eth[\"Close\"] / eth[\"Close\"].shift(1))"
   ]
  },
  {
   "cell_type": "code",
   "execution_count": null,
   "id": "f01bf2bc-d217-4232-9a51-6622090fe6f6",
   "metadata": {},
   "outputs": [],
   "source": [
    "# Cumulative Returns from log\n",
    "btc[\"Cum Log Returns\"] = np.exp(btc[\"Log Return\"].cumsum()) - 1\n",
    "eth[\"Cum Log Returns\"] = np.exp(eth[\"Log Return\"].cumsum()) - 1"
   ]
  },
  {
   "cell_type": "code",
   "execution_count": null,
   "id": "125a3e35-593c-42fd-8f58-06dff1fbfae3",
   "metadata": {},
   "outputs": [],
   "source": [
    "# Cumulative Returns from % Returns\n",
    "btc[\"Cum Pct Return\"] = (1 + btc[\"Pct Return\"]).cumprod() - 1\n",
    "eth[\"Cum Pct Return\"] = (1 + eth[\"Pct Return\"]).cumprod() - 1"
   ]
  },
  {
   "cell_type": "code",
   "execution_count": null,
   "id": "168d7ec1-0883-4800-897b-26156a76fa57",
   "metadata": {},
   "outputs": [],
   "source": [
    "plt.plot(btc[\"Cum Log Returns\"], label = \"BTC Cumulative Return\");\n",
    "plt.plot(eth[\"Cum Log Returns\"], label = \"ETH Cumulative Return\");\n",
    "plt.legend();"
   ]
  },
  {
   "cell_type": "raw",
   "id": "b49b6bcf-8f34-435d-8fb0-7e050d83fad0",
   "metadata": {},
   "source": [
    "% returns are asymmetric:\n",
    "\n",
    "If price goes from 100 → 50, that’s -50%.\n",
    "To recover, you need +100%, not +50%.\n",
    "\n",
    "Log returns are symmetric:\n",
    "\n",
    "Down 50% = ln(0.5) = -0.693\n",
    "Up 100% = ln(2) = +0.693\n",
    "\n",
    "They “cancel out” properly."
   ]
  },
  {
   "cell_type": "code",
   "execution_count": null,
   "id": "24558da0-07b3-440c-9c6c-d0d38193e8e4",
   "metadata": {},
   "outputs": [],
   "source": [
    "# Rolling and Annualized Volatility \n",
    "btc[\"Rolling_vol\"] = btc[\"Log Return\"].rolling(window=30).std()  # 30 trading days ~ 1 month\n",
    "btc[\"Annualized_vol\"] = btc[\"Rolling_vol\"] * np.sqrt(365)  # 365 trading days in a year\n",
    "\n",
    "\n",
    "eth[\"Rolling_vol\"] = btc[\"Log Return\"].rolling(window=30).std()  # 30 trading days ~ 1 month\n",
    "eth[\"Annualized_vol\"] = btc[\"Rolling_vol\"] * np.sqrt(365)  # 365 trading days in a year"
   ]
  },
  {
   "cell_type": "code",
   "execution_count": null,
   "id": "80d89688-a808-43c4-85ad-3989eb953d93",
   "metadata": {},
   "outputs": [],
   "source": [
    "# Sharpe Ratio - Measures risk-adjusted return\n",
    "sharpe_btc = btc[\"Log Return\"].mean() / btc[\"Log Return\"].std() * np.sqrt(365)\n",
    "sharpe_eth = eth[\"Log Return\"].mean() / eth[\"Log Return\"].std() * np.sqrt(365)"
   ]
  },
  {
   "cell_type": "code",
   "execution_count": null,
   "id": "090daee4-7842-4dac-842d-f1e36e5c2fcb",
   "metadata": {},
   "outputs": [],
   "source": [
    "# print(sharpe_btc) Sharpe ratio for the last 7 years of BTC"
   ]
  },
  {
   "cell_type": "code",
   "execution_count": null,
   "id": "05ad6cf9-844b-4a32-bdd3-c236900215c5",
   "metadata": {},
   "outputs": [],
   "source": [
    "# print(sharpe_eth)Sharpe ratio for the last 7 years of ETH"
   ]
  },
  {
   "cell_type": "code",
   "execution_count": null,
   "id": "30113053-230b-4859-b475-8b4056d810e7",
   "metadata": {},
   "outputs": [],
   "source": [
    "# Simple Backtest Strategy of both SMA's crossing\n",
    "# Fast(50) SMA crosses above Slow(200) SMA → Buy, indicating uptrend.\n",
    "# Fast(50) SMA crosses below Slow(200) SMA → Sell, indicating downtrend"
   ]
  },
  {
   "cell_type": "code",
   "execution_count": null,
   "id": "530128a6-3c2b-47f1-8e81-0654544c59fd",
   "metadata": {},
   "outputs": [],
   "source": [
    "# Simple Moving Averages\n",
    "btc[\"SMA_50\"] = btc[\"Close\"].rolling(window = 50).mean()\n",
    "btc[\"SMA_200\"] = btc[\"Close\"].rolling(window = 200).mean()\n",
    "\n",
    "btc = btc.dropna(subset=[\"SMA_50\", \"SMA_200\"]).copy() # Removing the first 200 for the backtest, since no 200 SMA is formed yet.\n",
    "\n",
    "\n",
    "eth[\"SMA_50\"] = eth[\"Close\"].rolling(window = 50).mean()\n",
    "eth[\"SMA_200\"] = eth[\"Close\"].rolling(window = 200).mean()\n",
    "\n",
    "eth = eth.dropna(subset=[\"SMA_50\", \"SMA_200\"]).copy()"
   ]
  },
  {
   "cell_type": "code",
   "execution_count": null,
   "id": "bf045afc-dbc7-4f78-b881-56f2908a638f",
   "metadata": {},
   "outputs": [],
   "source": [
    "btc[\"Signal\"] = 0 # Neutral, no position\n",
    "btc.loc[btc['SMA_50'] > btc['SMA_200'], 'Signal'] = 1 # Long / Buy (entry / exit)\n",
    "btc.loc[btc['SMA_50'] < btc['SMA_200'], 'Signal'] = -1 # Short / Sell (entry / exit)"
   ]
  },
  {
   "cell_type": "code",
   "execution_count": null,
   "id": "f1847641-57c9-4809-9882-69b84912d479",
   "metadata": {},
   "outputs": [],
   "source": [
    "# Strategy return = previous day's signal * today's log return\n",
    "btc[\"Strategy Return\"] = btc[\"Signal\"].shift(1) * btc[\"Log Return\"]"
   ]
  },
  {
   "cell_type": "code",
   "execution_count": null,
   "id": "924873a6-ef6c-4357-a2c6-edda62c0a36e",
   "metadata": {},
   "outputs": [],
   "source": [
    "# Calculate the cumulative returns\n",
    "btc[\"Cumulative Strategy\"] = np.exp(btc[\"Strategy Return\"].cumsum())  # start from 1\n",
    "btc[\"Cumulative BuyHold\"] = np.exp(btc[\"Log Return\"].cumsum())  # for comparison "
   ]
  },
  {
   "cell_type": "code",
   "execution_count": null,
   "id": "86b5fd7c-af77-4d55-8be8-152137222974",
   "metadata": {},
   "outputs": [],
   "source": [
    "# Comparing the strategy to a simple Buy & Hold BTC one\n",
    "plt.plot(btc[\"Cumulative BuyHold\"], label = \"Buy & Hold BTC\", color = \"blue\")\n",
    "plt.plot(btc[\"Cumulative Strategy\"], label = \"SMA 50/200 Strategy\", color = \"green\")\n",
    "plt.title(\"SMA Crossover Backtest\")\n",
    "plt.xlabel(\"Date\")\n",
    "plt.ylabel(\"Growth of $1\")\n",
    "plt.legend()"
   ]
  },
  {
   "cell_type": "code",
   "execution_count": null,
   "id": "5f58c9d6-b955-43e2-8531-4dba29254135",
   "metadata": {},
   "outputs": [],
   "source": [
    "# Calculate the sharpe ratio of the strategy\n",
    "strategy_sharpe = btc[\"Strategy Return\"].dropna().mean() / btc[\"Strategy Return\"].dropna().std() * np.sqrt(365)"
   ]
  },
  {
   "cell_type": "code",
   "execution_count": null,
   "id": "4363adb6-964f-4eba-93d0-8f13f3fbb8a4",
   "metadata": {},
   "outputs": [],
   "source": [
    "# Print both the SMA Strategy Sharpe and BTC Buy % Hold strategy Sharpe\n",
    "print(\"SMA Strategy Sharpe:\", strategy_sharpe, \"\\nBTC Buy / Hold Sharpe:\", sharpe_btc)"
   ]
  },
  {
   "cell_type": "code",
   "execution_count": null,
   "id": "c3d128e3-8a5e-4db2-b252-b9e2833844af",
   "metadata": {},
   "outputs": [],
   "source": [
    "# Drawdown Calculation - % decline from the previous peak of the equity curve.\n",
    "# MDD (Max Drawdown) - Worst or deepest drawdown in the equity curve. "
   ]
  },
  {
   "cell_type": "code",
   "execution_count": null,
   "id": "8fbb9892-356c-4673-97e8-d13e2b7bbc7d",
   "metadata": {},
   "outputs": [],
   "source": [
    "# SMA Strategy  Drawdown\n",
    "btc[\"SMA Strategy Peak\"] = btc[\"Cumulative Strategy\"].cummax()\n",
    "btc[\"SMA Strategy Drawdown\"] = (btc[\"Cumulative Strategy\"] - btc[\"SMA Strategy Peak\"]) / btc[\"SMA Strategy Peak\"]"
   ]
  },
  {
   "cell_type": "code",
   "execution_count": null,
   "id": "9f26fa6b-9746-4353-a6d9-7f079e6137f6",
   "metadata": {},
   "outputs": [],
   "source": [
    "# Buy & Hold Strategy Drawdown\n",
    "btc[\"BuyHold Strategy Peak\"] = btc[\"Cumulative BuyHold\"].cummax()\n",
    "btc[\"BuyHold Strategy Drawdown\"] = (btc[\"Cumulative BuyHold\"] - btc[\"BuyHold Strategy Peak\"]) / btc[\"BuyHold Strategy Peak\"]"
   ]
  },
  {
   "cell_type": "code",
   "execution_count": null,
   "id": "c526a491-6a3d-4d5d-bde3-b126a423f861",
   "metadata": {},
   "outputs": [],
   "source": [
    "# MDD\n",
    "max_dd_sma = btc[\"SMA Strategy Drawdown\"].min()\n",
    "max_dd_buyhold = btc[\"BuyHold Strategy Drawdown\"].min()\n",
    "\n",
    "print(\"Max Drawdown (SMA Strategy):\", max_dd_sma, \"\\nMax Drawdown (Buy & Hold):\", max_dd_buyhold)"
   ]
  },
  {
   "cell_type": "code",
   "execution_count": null,
   "id": "9f50bd3c-30de-4329-b9d6-df16d7ebb2a8",
   "metadata": {},
   "outputs": [],
   "source": [
    "# Plotting the drawdowns\n",
    "plt.plot(btc[\"SMA Strategy Drawdown\"], label=\"SMA Strategy Drawdown\", color=\"black\", linestyle = \"-\");\n",
    "plt.plot(btc[\"BuyHold Strategy Drawdown\"], label=\"Buy & Hold Drawdown\", color=\"red\", linewidth = 0.7, linestyle = \"--\");\n",
    "plt.title(\"Drawdowns Over Time\")\n",
    "plt.xlabel(\"Date\")\n",
    "plt.ylabel(\"Drawdown (%)\")\n",
    "plt.legend();"
   ]
  },
  {
   "cell_type": "code",
   "execution_count": null,
   "id": "fa83d79a-3bf0-4532-916b-c4fa51bbb82a",
   "metadata": {},
   "outputs": [],
   "source": []
  }
 ],
 "metadata": {
  "kernelspec": {
   "display_name": "Python 3 (ipykernel)",
   "language": "python",
   "name": "python3"
  },
  "language_info": {
   "codemirror_mode": {
    "name": "ipython",
    "version": 3
   },
   "file_extension": ".py",
   "mimetype": "text/x-python",
   "name": "python",
   "nbconvert_exporter": "python",
   "pygments_lexer": "ipython3",
   "version": "3.13.5"
  }
 },
 "nbformat": 4,
 "nbformat_minor": 5
}
